{
 "cells": [
  {
   "cell_type": "code",
   "execution_count": 33,
   "metadata": {},
   "outputs": [],
   "source": [
    "import torch\n",
    "import torch.nn as nn\n",
    "import torch.functional as f\n",
    "import torch.optim as optim\n",
    "from torch.autograd import Variable\n",
    "import torchvision.utils as vutils\n",
    "import torchvision.datasets as dset\n",
    "import torchvision.transforms as transforms"
   ]
  },
  {
   "cell_type": "code",
   "execution_count": 46,
   "metadata": {},
   "outputs": [],
   "source": [
    "class G(nn.Module):\n",
    "    def __init__(self):\n",
    "        super(G, self).__init__()\n",
    "        self.Enc = nn.Sequential(\n",
    "            nn.Conv2d(1,16, 3),\n",
    "            nn.BatchNorm2d(16),\n",
    "            nn.ReLU(),\n",
    "            nn.Conv2d(16, 32, 3),\n",
    "            nn.BatchNorm2d(32),\n",
    "            nn.ReLU()\n",
    "        )\n",
    "        self.Dec = nn.Sequential(\n",
    "            nn.ConvTranspose2d(32, 16, 3),\n",
    "            nn.BatchNorm2d(16),\n",
    "            nn.ReLU(),\n",
    "            nn.ConvTranspose2d(16, 1, 3),\n",
    "            nn.BatchNorm2d(1),\n",
    "            nn.ReLU()\n",
    "        )\n",
    "    \n",
    "    def forward(self, x):\n",
    "        out = self.Enc(x)\n",
    "        #out = out.view(batch_size, -1)\n",
    "        out = out.view(batch_size, 32, 24, 24)\n",
    "        out = self.Dec(out)\n",
    "        return out\n",
    "\n",
    "class D(nn.Module):\n",
    "    def __init__(self):\n",
    "        super(D, self).__init__()\n",
    "        self.Enc = nn.Sequential(\n",
    "            # (28 - 3) / 1  + 1 = 26\n",
    "            nn.Conv2d(1,16, 3),\n",
    "            nn.BatchNorm2d(16),\n",
    "            nn.ReLU(),\n",
    "            # (26 - 3) / 1 + 1 = 24\n",
    "            nn.Conv2d(16,32,3),\n",
    "            nn.BatchNorm2d(32),\n",
    "            nn.ReLU()\n",
    "        )\n",
    "        self.fc = nn.Sequential(\n",
    "            nn.Linear(32 * 24 * 24, 100),\n",
    "            nn.ReLU(),\n",
    "            nn.Linear(100, 1),\n",
    "            nn.Sigmoid()\n",
    "        )\n",
    "        \n",
    "    def forward(self, x):\n",
    "        out = self.Enc(x)\n",
    "        out = out.view(batch_size, 32*24*24)\n",
    "        out = self.fc(out)\n",
    "        return out"
   ]
  },
  {
   "cell_type": "code",
   "execution_count": 47,
   "metadata": {},
   "outputs": [],
   "source": [
    "batch_size = 256\n",
    "learning_rate = 0.0002\n",
    "num_epoch = 5"
   ]
  },
  {
   "cell_type": "code",
   "execution_count": 48,
   "metadata": {},
   "outputs": [],
   "source": [
    "mnist_train = dset.FashionMNIST(\"./\", train=True, transform=transforms.ToTensor(), target_transform=None, download=True)\n",
    "mnist_test = dset.FashionMNIST(\"./\", train=False, transform=transforms.ToTensor(), target_transform=None, download=True)"
   ]
  },
  {
   "cell_type": "code",
   "execution_count": 49,
   "metadata": {},
   "outputs": [],
   "source": [
    "train_loader = torch.utils.data.DataLoader(mnist_train,batch_size=batch_size, shuffle=True,num_workers=2,drop_last=True)\n",
    "test_loader = torch.utils.data.DataLoader(mnist_test,batch_size=batch_size, shuffle=False,num_workers=2,drop_last=True)"
   ]
  },
  {
   "cell_type": "code",
   "execution_count": 50,
   "metadata": {},
   "outputs": [
    {
     "name": "stdout",
     "output_type": "stream",
     "text": [
      "cuda:0\n"
     ]
    }
   ],
   "source": [
    "device = torch.device(\"cuda:0\" if torch.cuda.is_available() else \"cpu\")\n",
    "print(device)"
   ]
  },
  {
   "cell_type": "code",
   "execution_count": 51,
   "metadata": {},
   "outputs": [],
   "source": [
    "generator = nn.DataParallel(G()).cuda()\n",
    "discriminator = nn.DataParallel(D()).cuda()\n",
    "\n",
    "gen_params = generator.state_dict().keys()\n",
    "dis_params = discriminator.state_dict().keys()"
   ]
  },
  {
   "cell_type": "code",
   "execution_count": 52,
   "metadata": {},
   "outputs": [],
   "source": [
    "loss_func = nn.MSELoss()\n",
    "gen_optim = torch.optim.Adam(generator.parameters(), lr=learning_rate,betas=(0.5,0.999))\n",
    "dis_optim = torch.optim.Adam(discriminator.parameters(), lr=learning_rate,betas=(0.5,0.999))"
   ]
  },
  {
   "cell_type": "code",
   "execution_count": 53,
   "metadata": {},
   "outputs": [],
   "source": [
    "ones_label = Variable(torch.ones(batch_size,1)).cuda()\n",
    "zeros_label = Variable(torch.zeros(batch_size,1)).cuda()"
   ]
  },
  {
   "cell_type": "code",
   "execution_count": 54,
   "metadata": {
    "scrolled": true
   },
   "outputs": [
    {
     "name": "stdout",
     "output_type": "stream",
     "text": [
      "0\n",
      "tensor(0.2035, device='cuda:0', grad_fn=<SumBackward0>) tensor(0.5036, device='cuda:0', grad_fn=<AddBackward0>)\n",
      "0th iteration gen_loss: 0.20354342460632324 dis_loss: 0.503596305847168\n",
      "0\n",
      "tensor(0.6286, device='cuda:0', grad_fn=<SumBackward0>) tensor(0.3651, device='cuda:0', grad_fn=<AddBackward0>)\n",
      "0th iteration gen_loss: 0.6286436319351196 dis_loss: 0.3650933802127838\n",
      "0\n",
      "tensor(0.4338, device='cuda:0', grad_fn=<SumBackward0>) tensor(0.3288, device='cuda:0', grad_fn=<AddBackward0>)\n",
      "0th iteration gen_loss: 0.43382036685943604 dis_loss: 0.3287545442581177\n",
      "1\n",
      "tensor(0.5708, device='cuda:0', grad_fn=<SumBackward0>) tensor(0.3883, device='cuda:0', grad_fn=<AddBackward0>)\n",
      "1th iteration gen_loss: 0.5707948207855225 dis_loss: 0.38826465606689453\n",
      "1\n",
      "tensor(0.4739, device='cuda:0', grad_fn=<SumBackward0>) tensor(0.4520, device='cuda:0', grad_fn=<AddBackward0>)\n",
      "1th iteration gen_loss: 0.4739144444465637 dis_loss: 0.4520045816898346\n",
      "1\n",
      "tensor(0.2024, device='cuda:0', grad_fn=<SumBackward0>) tensor(0.4161, device='cuda:0', grad_fn=<AddBackward0>)\n",
      "1th iteration gen_loss: 0.20236296951770782 dis_loss: 0.4161092936992645\n",
      "2\n",
      "tensor(0.4857, device='cuda:0', grad_fn=<SumBackward0>) tensor(0.4401, device='cuda:0', grad_fn=<AddBackward0>)\n",
      "2th iteration gen_loss: 0.4857480823993683 dis_loss: 0.44011592864990234\n",
      "2\n",
      "tensor(0.4392, device='cuda:0', grad_fn=<SumBackward0>) tensor(0.4581, device='cuda:0', grad_fn=<AddBackward0>)\n",
      "2th iteration gen_loss: 0.43922722339630127 dis_loss: 0.4581267237663269\n",
      "2\n",
      "tensor(0.4817, device='cuda:0', grad_fn=<SumBackward0>) tensor(0.4702, device='cuda:0', grad_fn=<AddBackward0>)\n",
      "2th iteration gen_loss: 0.481711208820343 dis_loss: 0.4702223241329193\n",
      "3\n",
      "tensor(0.3677, device='cuda:0', grad_fn=<SumBackward0>) tensor(0.4269, device='cuda:0', grad_fn=<AddBackward0>)\n",
      "3th iteration gen_loss: 0.3676510453224182 dis_loss: 0.42685920000076294\n",
      "3\n",
      "tensor(0.2395, device='cuda:0', grad_fn=<SumBackward0>) tensor(0.4326, device='cuda:0', grad_fn=<AddBackward0>)\n",
      "3th iteration gen_loss: 0.2394912838935852 dis_loss: 0.4326227903366089\n",
      "3\n",
      "tensor(0.3316, device='cuda:0', grad_fn=<SumBackward0>) tensor(0.4348, device='cuda:0', grad_fn=<AddBackward0>)\n",
      "3th iteration gen_loss: 0.3316335678100586 dis_loss: 0.434831440448761\n",
      "4\n",
      "tensor(0.2804, device='cuda:0', grad_fn=<SumBackward0>) tensor(0.4252, device='cuda:0', grad_fn=<AddBackward0>)\n",
      "4th iteration gen_loss: 0.2804025709629059 dis_loss: 0.4252042770385742\n",
      "4\n",
      "tensor(0.4269, device='cuda:0', grad_fn=<SumBackward0>) tensor(0.4528, device='cuda:0', grad_fn=<AddBackward0>)\n",
      "4th iteration gen_loss: 0.4268890619277954 dis_loss: 0.45278292894363403\n",
      "4\n",
      "tensor(0.3517, device='cuda:0', grad_fn=<SumBackward0>) tensor(0.4509, device='cuda:0', grad_fn=<AddBackward0>)\n",
      "4th iteration gen_loss: 0.35173189640045166 dis_loss: 0.4508528709411621\n"
     ]
    }
   ],
   "source": [
    "for i in range(num_epoch):\n",
    "    for j,[image,label] in enumerate(train_loader):\n",
    "        x = image.to(device)\n",
    "        \n",
    "        # Dis\n",
    "        dis_optim.zero_grad()\n",
    "        gen_fake = generator.forward(x)\n",
    "        dis_fake = discriminator.forward(gen_fake)\n",
    "        \n",
    "        dis_real = discriminator.forward(x)\n",
    "        dis_loss =  torch.sum(loss_func(dis_fake,zeros_label)) + torch.sum(loss_func(dis_real,ones_label))\n",
    "        dis_loss.backward(retain_graph = True)\n",
    "        dis_optim.step()\n",
    "        \n",
    "        # Gen\n",
    "        gen_optim.zero_grad()\n",
    "        gen_fake = generator.forward(x)\n",
    "        dis_fake = discriminator.forward(gen_fake)\n",
    "        \n",
    "        gen_loss = torch.sum(loss_func(dis_fake, ones_label))\n",
    "        gen_loss.backward()\n",
    "        gen_optim.step()\n",
    "        \n",
    "        if j % 100 == 0:\n",
    "            print(i)\n",
    "            print(gen_loss,dis_loss)\n",
    "            #torch.save([generator,discriminator],'./model/vanilla_gan.pkl')\n",
    "\n",
    "            print(\"{}th iteration gen_loss: {} dis_loss: {}\".format(i,gen_loss.data,dis_loss.data))\n",
    "            #v_utils.save_image(gen_fake.data[0:25],\"./result/gen_{}_{}.png\".format(i,j), nrow=5)\n"
   ]
  },
  {
   "cell_type": "code",
   "execution_count": 12,
   "metadata": {},
   "outputs": [],
   "source": [
    "gen_img = generator.forward(x)"
   ]
  },
  {
   "cell_type": "code",
   "execution_count": 13,
   "metadata": {},
   "outputs": [],
   "source": [
    "import matplotlib.pyplot as plt"
   ]
  },
  {
   "cell_type": "code",
   "execution_count": 45,
   "metadata": {},
   "outputs": [
    {
     "name": "stdout",
     "output_type": "stream",
     "text": [
      "REAL\n"
     ]
    },
    {
     "data": {
      "image/png": "[encoded data removed]",
      "text/plain": [
       "<Figure size 432x288 with 1 Axes>"
      ]
     },
     "metadata": {
      "needs_background": "light"
     },
     "output_type": "display_data"
    },
    {
     "name": "stdout",
     "output_type": "stream",
     "text": [
      "GAN\n"
     ]
    },
    {
     "data": {
      "image/png": "[encoded data removed]",
      "text/plain": [
       "<Figure size 432x288 with 1 Axes>"
      ]
     },
     "metadata": {
      "needs_background": "light"
     },
     "output_type": "display_data"
    }
   ],
   "source": [
    "print(\"REAL\")\n",
    "plt.imshow(image[0][0])\n",
    "plt.show()\n",
    "print( \"GAN\")\n",
    "plt.imshow(gen_img.detach().cpu()[0][0])\n",
    "plt.show()"
   ]
  },
  {
   "cell_type": "code",
   "execution_count": null,
   "metadata": {},
   "outputs": [],
   "source": []
  }
 ],
 "metadata": {
  "kernelspec": {
   "display_name": "Python 3",
   "language": "python",
   "name": "python3"
  },
  "language_info": {
   "codemirror_mode": {
    "name": "ipython",
    "version": 3
   },
   "file_extension": ".py",
   "mimetype": "text/x-python",
   "name": "python",
   "nbconvert_exporter": "python",
   "pygments_lexer": "ipython3",
   "version": "3.8.5"
  }
 },
 "nbformat": 4,
 "nbformat_minor": 4
}
