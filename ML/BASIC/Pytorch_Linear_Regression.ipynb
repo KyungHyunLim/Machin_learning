{
 "cells": [
  {
   "cell_type": "code",
   "execution_count": 1,
   "metadata": {},
   "outputs": [],
   "source": [
    "import torch\n",
    "import torch.nn as nn\n",
    "import torch.nn.functional as f\n",
    "import torch.optim as optim"
   ]
  },
  {
   "cell_type": "markdown",
   "metadata": {},
   "source": [
    "# 선형회귀"
   ]
  },
  {
   "cell_type": "code",
   "execution_count": 2,
   "metadata": {},
   "outputs": [],
   "source": [
    "# H(X) = w1 x1 + w2 x2 + w3 x3 + b\n",
    "\n",
    "x_train = torch.FloatTensor(\n",
    "    [[70, 51, 95],\n",
    "    [93, 81, 80],\n",
    "    [105, 61, 81],\n",
    "    [78, 21, 55],\n",
    "    [43, 91, 32]])\n",
    "y_train = torch.FloatTensor(\n",
    "    [[457],\n",
    "    [402],\n",
    "    [470],\n",
    "    [285],\n",
    "    [321]])"
   ]
  },
  {
   "cell_type": "code",
   "execution_count": 3,
   "metadata": {},
   "outputs": [],
   "source": [
    "w = torch.zeros((3,1), requires_grad = True)\n",
    "b = torch.zeros(1, requires_grad = True)\n",
    "optimizer = optim.SGD([w, b], lr = 1e-5)"
   ]
  },
  {
   "cell_type": "code",
   "execution_count": 9,
   "metadata": {},
   "outputs": [],
   "source": [
    "epochs = 2000"
   ]
  },
  {
   "cell_type": "code",
   "execution_count": 10,
   "metadata": {},
   "outputs": [
    {
     "name": "stdout",
     "output_type": "stream",
     "text": [
      "Epoch  0/2000, hypothsis: tensor([431.1272, 466.7654, 449.0041, 277.6185, 293.4592]), Cost: 1223.5536\n",
      "Epoch 100/2000, hypothsis: tensor([434.0738, 466.5685, 447.7781, 276.1143, 293.2016]), Cost: 1208.0433\n",
      "Epoch 200/2000, hypothsis: tensor([436.1977, 466.4258, 446.8949, 275.0320, 293.0145]), Cost: 1199.9640\n",
      "Epoch 300/2000, hypothsis: tensor([437.7284, 466.3226, 446.2581, 274.2529, 292.8796]), Cost: 1195.7449\n",
      "Epoch 400/2000, hypothsis: tensor([438.8316, 466.2478, 445.7990, 273.6921, 292.7827]), Cost: 1193.5299\n",
      "Epoch 500/2000, hypothsis: tensor([439.6266, 466.1935, 445.4678, 273.2885, 292.7131]), Cost: 1192.3542\n",
      "Epoch 600/2000, hypothsis: tensor([440.1997, 466.1540, 445.2289, 272.9983, 292.6634]), Cost: 1191.7209\n",
      "Epoch 700/2000, hypothsis: tensor([440.6129, 466.1252, 445.0564, 272.7897, 292.6279]), Cost: 1191.3665\n",
      "Epoch 800/2000, hypothsis: tensor([440.9107, 466.1040, 444.9317, 272.6399, 292.6026]), Cost: 1191.1575\n",
      "Epoch 900/2000, hypothsis: tensor([441.1255, 466.0884, 444.8416, 272.5326, 292.5847]), Cost: 1191.0249\n",
      "Epoch 1000/2000, hypothsis: tensor([441.2805, 466.0767, 444.7764, 272.4558, 292.5722]), Cost: 1190.9314\n",
      "Epoch 1100/2000, hypothsis: tensor([441.3922, 466.0679, 444.7290, 272.4011, 292.5635]), Cost: 1190.8583\n",
      "Epoch 1200/2000, hypothsis: tensor([441.4729, 466.0612, 444.6946, 272.3622, 292.5576]), Cost: 1190.7957\n",
      "Epoch 1300/2000, hypothsis: tensor([441.5312, 466.0560, 444.6694, 272.3347, 292.5536]), Cost: 1190.7389\n",
      "Epoch 1400/2000, hypothsis: tensor([441.5734, 466.0518, 444.6510, 272.3155, 292.5512]), Cost: 1190.6838\n",
      "Epoch 1500/2000, hypothsis: tensor([441.6039, 466.0485, 444.6374, 272.3022, 292.5497]), Cost: 1190.6316\n",
      "Epoch 1600/2000, hypothsis: tensor([441.6261, 466.0457, 444.6273, 272.2932, 292.5491]), Cost: 1190.5798\n",
      "Epoch 1700/2000, hypothsis: tensor([441.6422, 466.0432, 444.6197, 272.2872, 292.5489]), Cost: 1190.5276\n",
      "Epoch 1800/2000, hypothsis: tensor([441.6541, 466.0412, 444.6139, 272.2835, 292.5491]), Cost: 1190.4773\n",
      "Epoch 1900/2000, hypothsis: tensor([441.6627, 466.0392, 444.6094, 272.2814, 292.5496]), Cost: 1190.4258\n",
      "Epoch 2000/2000, hypothsis: tensor([441.6691, 466.0375, 444.6058, 272.2804, 292.5503]), Cost: 1190.3752\n"
     ]
    }
   ],
   "source": [
    "for epoch in range(epochs + 1):\n",
    "    hypothesis = x_train.matmul(w) + b\n",
    "    cost = torch.mean((hypothesis - y_train)**2)\n",
    "    \n",
    "    optimizer.zero_grad()\n",
    "    cost.backward()\n",
    "    optimizer.step()\n",
    "    \n",
    "    if epoch % 100 == 0:\n",
    "        print('Epoch {:2d}/{}, hypothsis: {}, Cost: {:.4f}'.format(epoch, epochs, \n",
    "                                                              hypothesis.squeeze().detach(), cost.item()))"
   ]
  },
  {
   "cell_type": "markdown",
   "metadata": {},
   "source": [
    "# NN 사용"
   ]
  },
  {
   "cell_type": "code",
   "execution_count": 29,
   "metadata": {},
   "outputs": [],
   "source": [
    "model = nn.Linear(3,1)\n",
    "optimizer = torch.optim.SGD(model.parameters(), lr=1e-5)"
   ]
  },
  {
   "cell_type": "code",
   "execution_count": 30,
   "metadata": {},
   "outputs": [
    {
     "name": "stdout",
     "output_type": "stream",
     "text": [
      "Epoch  0/2000, Cost: 132153.9375\n",
      "Epoch 100/2000, Cost: 1466.3066\n",
      "Epoch 200/2000, Cost: 1326.2985\n",
      "Epoch 300/2000, Cost: 1260.2957\n",
      "Epoch 400/2000, Cost: 1226.2626\n",
      "Epoch 500/2000, Cost: 1208.5779\n",
      "Epoch 600/2000, Cost: 1199.3704\n",
      "Epoch 700/2000, Cost: 1194.5652\n",
      "Epoch 800/2000, Cost: 1192.0461\n",
      "Epoch 900/2000, Cost: 1190.7136\n",
      "Epoch 1000/2000, Cost: 1189.9973\n",
      "Epoch 1100/2000, Cost: 1189.6011\n",
      "Epoch 1200/2000, Cost: 1189.3704\n",
      "Epoch 1300/2000, Cost: 1189.2264\n",
      "Epoch 1400/2000, Cost: 1189.1268\n",
      "Epoch 1500/2000, Cost: 1189.0508\n",
      "Epoch 1600/2000, Cost: 1188.9875\n",
      "Epoch 1700/2000, Cost: 1188.9294\n",
      "Epoch 1800/2000, Cost: 1188.8755\n",
      "Epoch 1900/2000, Cost: 1188.8224\n",
      "Epoch 2000/2000, Cost: 1188.7708\n"
     ]
    }
   ],
   "source": [
    "for epoch in range(epochs + 1):\n",
    "    prediction = model(x_train)\n",
    "    cost = f.mse_loss(prediction, y_train)\n",
    "    \n",
    "    optimizer.zero_grad()\n",
    "    cost.backward()\n",
    "    optimizer.step()\n",
    "    \n",
    "    if epoch % 100 == 0:\n",
    "        print('Epoch {:2d}/{}, Cost: {:.4f}'.format(epoch, epochs, \n",
    "                                                               cost.item()))"
   ]
  },
  {
   "cell_type": "code",
   "execution_count": null,
   "metadata": {},
   "outputs": [],
   "source": []
  }
 ],
 "metadata": {
  "kernelspec": {
   "display_name": "Python 3",
   "language": "python",
   "name": "python3"
  },
  "language_info": {
   "codemirror_mode": {
    "name": "ipython",
    "version": 3
   },
   "file_extension": ".py",
   "mimetype": "text/x-python",
   "name": "python",
   "nbconvert_exporter": "python",
   "pygments_lexer": "ipython3",
   "version": "3.8.5"
  }
 },
 "nbformat": 4,
 "nbformat_minor": 4
}
