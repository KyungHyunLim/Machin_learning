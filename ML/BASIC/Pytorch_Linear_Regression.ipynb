{
 "cells": [
  {
   "cell_type": "code",
   "execution_count": 1,
   "metadata": {},
   "outputs": [],
   "source": [
    "import torch\n",
    "import torch.nn as nn\n",
    "import torch.nn.functional as f\n",
    "import torch.optim as optim"
   ]
  },
  {
   "cell_type": "markdown",
   "metadata": {},
   "source": [
    "# 선형회귀"
   ]
  },
  {
   "cell_type": "code",
   "execution_count": 2,
   "metadata": {},
   "outputs": [],
   "source": [
    "# H(X) = w1 x1 + w2 x2 + w3 x3 + b\n",
    "\n",
    "x_train = torch.FloatTensor(\n",
    "    [[70, 51, 95],\n",
    "    [93, 81, 80],\n",
    "    [105, 61, 81],\n",
    "    [78, 21, 55],\n",
    "    [43, 91, 32]])\n",
    "y_train = torch.FloatTensor(\n",
    "    [[457],\n",
    "    [402],\n",
    "    [470],\n",
    "    [285],\n",
    "    [321]])"
   ]
  },
  {
   "cell_type": "code",
   "execution_count": 3,
   "metadata": {},
   "outputs": [],
   "source": [
    "w = torch.zeros((3,1), requires_grad = True)\n",
    "b = torch.zeros(1, requires_grad = True)\n",
    "optimizer = optim.SGD([w, b], lr = 1e-5)"
   ]
  },
  {
   "cell_type": "code",
   "execution_count": 4,
   "metadata": {},
   "outputs": [],
   "source": [
    "epochs = 2000"
   ]
  },
  {
   "cell_type": "code",
   "execution_count": 5,
   "metadata": {},
   "outputs": [
    {
     "name": "stdout",
     "output_type": "stream",
     "text": [
      "Epoch  0/2000, hypothsis: tensor([0., 0., 0., 0., 0.]), Cost: 155123.7969\n",
      "Epoch 100/2000, hypothsis: tensor([411.4963, 467.9461, 457.4408, 288.1785, 294.4139]), Cost: 1458.8258\n",
      "Epoch 200/2000, hypothsis: tensor([419.8131, 467.4963, 453.7597, 283.4945, 294.3108]), Cost: 1330.1929\n",
      "Epoch 300/2000, hypothsis: tensor([425.8985, 467.1107, 451.1865, 280.3032, 293.8963]), Cost: 1263.4659\n",
      "Epoch 400/2000, hypothsis: tensor([430.3019, 466.8203, 449.3477, 278.0405, 293.5305]), Cost: 1228.7971\n",
      "Epoch 500/2000, hypothsis: tensor([433.4788, 466.6083, 448.0256, 276.4178, 293.2538]), Cost: 1210.7710\n",
      "Epoch 600/2000, hypothsis: tensor([435.7689, 466.4547, 447.0732, 275.2504, 293.0522]), Cost: 1201.3867\n",
      "Epoch 700/2000, hypothsis: tensor([437.4193, 466.3434, 446.3867, 274.4101, 292.9068]), Cost: 1196.4890\n",
      "Epoch 800/2000, hypothsis: tensor([438.6088, 466.2629, 445.8917, 273.8052, 292.8022]), Cost: 1193.9219\n",
      "Epoch 900/2000, hypothsis: tensor([439.4661, 466.2045, 445.5347, 273.3699, 292.7271]), Cost: 1192.5643\n",
      "Epoch 1000/2000, hypothsis: tensor([440.0840, 466.1620, 445.2771, 273.0568, 292.6734]), Cost: 1191.8347\n",
      "Epoch 1100/2000, hypothsis: tensor([440.5294, 466.1310, 445.0912, 272.8317, 292.6350]), Cost: 1191.4319\n",
      "Epoch 1200/2000, hypothsis: tensor([440.8506, 466.1083, 444.9569, 272.6701, 292.6077]), Cost: 1191.1965\n",
      "Epoch 1300/2000, hypothsis: tensor([441.0821, 466.0916, 444.8598, 272.5542, 292.5883]), Cost: 1191.0509\n",
      "Epoch 1400/2000, hypothsis: tensor([441.2491, 466.0791, 444.7896, 272.4713, 292.5747]), Cost: 1190.9506\n",
      "Epoch 1500/2000, hypothsis: tensor([441.3697, 466.0698, 444.7386, 272.4121, 292.5653]), Cost: 1190.8737\n",
      "Epoch 1600/2000, hypothsis: tensor([441.4566, 466.0626, 444.7015, 272.3699, 292.5588]), Cost: 1190.8102\n",
      "Epoch 1700/2000, hypothsis: tensor([441.5194, 466.0571, 444.6745, 272.3402, 292.5544]), Cost: 1190.7513\n",
      "Epoch 1800/2000, hypothsis: tensor([441.5649, 466.0528, 444.6548, 272.3193, 292.5517]), Cost: 1190.6973\n",
      "Epoch 1900/2000, hypothsis: tensor([441.5978, 466.0492, 444.6402, 272.3048, 292.5500]), Cost: 1190.6434\n",
      "Epoch 2000/2000, hypothsis: tensor([441.6217, 466.0463, 444.6294, 272.2950, 292.5492]), Cost: 1190.5911\n"
     ]
    }
   ],
   "source": [
    "for epoch in range(epochs + 1):\n",
    "    hypothesis = x_train.matmul(w) + b\n",
    "    cost = torch.mean((hypothesis - y_train)**2)\n",
    "    \n",
    "    optimizer.zero_grad()\n",
    "    cost.backward()\n",
    "    optimizer.step()\n",
    "    \n",
    "    if epoch % 100 == 0:\n",
    "        print('Epoch {:2d}/{}, hypothsis: {}, Cost: {:.4f}'.format(epoch, epochs, \n",
    "                                                              hypothesis.squeeze().detach(), cost.item()))"
   ]
  },
  {
   "cell_type": "markdown",
   "metadata": {},
   "source": [
    "# NN 사용"
   ]
  },
  {
   "cell_type": "code",
   "execution_count": 6,
   "metadata": {},
   "outputs": [],
   "source": [
    "model = nn.Linear(3,1)\n",
    "optimizer = torch.optim.SGD(model.parameters(), lr=1e-5)"
   ]
  },
  {
   "cell_type": "code",
   "execution_count": 7,
   "metadata": {},
   "outputs": [
    {
     "name": "stdout",
     "output_type": "stream",
     "text": [
      "Epoch  0/2000, Cost: 94063.3047\n",
      "Epoch 100/2000, Cost: 1442.4529\n",
      "Epoch 200/2000, Cost: 1321.7034\n",
      "Epoch 300/2000, Cost: 1259.4584\n",
      "Epoch 400/2000, Cost: 1227.1320\n",
      "Epoch 500/2000, Cost: 1210.3223\n",
      "Epoch 600/2000, Cost: 1201.5703\n",
      "Epoch 700/2000, Cost: 1197.0007\n",
      "Epoch 800/2000, Cost: 1194.6038\n",
      "Epoch 900/2000, Cost: 1193.3345\n",
      "Epoch 1000/2000, Cost: 1192.6501\n",
      "Epoch 1100/2000, Cost: 1192.2710\n",
      "Epoch 1200/2000, Cost: 1192.0492\n",
      "Epoch 1300/2000, Cost: 1191.9099\n",
      "Epoch 1400/2000, Cost: 1191.8124\n",
      "Epoch 1500/2000, Cost: 1191.7366\n",
      "Epoch 1600/2000, Cost: 1191.6731\n",
      "Epoch 1700/2000, Cost: 1191.6160\n",
      "Epoch 1800/2000, Cost: 1191.5610\n",
      "Epoch 1900/2000, Cost: 1191.5084\n",
      "Epoch 2000/2000, Cost: 1191.4567\n"
     ]
    }
   ],
   "source": [
    "for epoch in range(epochs + 1):\n",
    "    prediction = model(x_train)\n",
    "    cost = f.mse_loss(prediction, y_train)\n",
    "    \n",
    "    optimizer.zero_grad()\n",
    "    cost.backward()\n",
    "    optimizer.step()\n",
    "    \n",
    "    if epoch % 100 == 0:\n",
    "        print('Epoch {:2d}/{}, Cost: {:.4f}'.format(epoch, epochs, \n",
    "                                                               cost.item()))"
   ]
  },
  {
   "cell_type": "code",
   "execution_count": null,
   "metadata": {},
   "outputs": [],
   "source": []
  }
 ],
 "metadata": {
  "kernelspec": {
   "display_name": "Python 3",
   "language": "python",
   "name": "python3"
  },
  "language_info": {
   "codemirror_mode": {
    "name": "ipython",
    "version": 3
   },
   "file_extension": ".py",
   "mimetype": "text/x-python",
   "name": "python",
   "nbconvert_exporter": "python",
   "pygments_lexer": "ipython3",
   "version": "3.8.5"
  }
 },
 "nbformat": 4,
 "nbformat_minor": 4
}
