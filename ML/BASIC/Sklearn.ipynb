{
 "cells": [
  {
   "cell_type": "code",
   "execution_count": 20,
   "metadata": {},
   "outputs": [],
   "source": [
    "from sklearn.datasets import load_iris\n",
    "from sklearn.model_selection import train_test_split\n",
    "from sklearn.metrics import accuracy_score\n",
    "import numpy as np\n",
    "import matplotlib.pyplot as plt"
   ]
  },
  {
   "cell_type": "markdown",
   "metadata": {},
   "source": [
    "# 데이터 준비"
   ]
  },
  {
   "cell_type": "code",
   "execution_count": 3,
   "metadata": {},
   "outputs": [],
   "source": [
    "# 꽃 분류 데이터\n",
    "\n",
    "iris_dataset = load_iris()\n",
    "Y = iris_dataset['target']"
   ]
  },
  {
   "cell_type": "code",
   "execution_count": 15,
   "metadata": {},
   "outputs": [],
   "source": [
    "train_x, test_x, train_y, test_y = train_test_split(iris_dataset['data'], Y, test_size = 0.2, random_state=77)"
   ]
  },
  {
   "cell_type": "markdown",
   "metadata": {},
   "source": [
    "# Decision tree"
   ]
  },
  {
   "cell_type": "code",
   "execution_count": 16,
   "metadata": {},
   "outputs": [],
   "source": [
    "from sklearn.tree import DecisionTreeClassifier"
   ]
  },
  {
   "cell_type": "code",
   "execution_count": 17,
   "metadata": {},
   "outputs": [
    {
     "name": "stdout",
     "output_type": "stream",
     "text": [
      "0.9\n"
     ]
    }
   ],
   "source": [
    "# 모델 설정\n",
    "DC = DecisionTreeClassifier(criterion='entropy', max_depth = 5)\n",
    "\n",
    "# 모델 훈련\n",
    "DC.fit(train_x, train_y)\n",
    "\n",
    "# 모델 예측\n",
    "pred_y = DC.predict(test_x)\n",
    "\n",
    "# 모델 평가\n",
    "print(accuracy_score(test_y, pred_y))"
   ]
  },
  {
   "cell_type": "code",
   "execution_count": 31,
   "metadata": {},
   "outputs": [
    {
     "data": {
      "image/png": "[encoded data removed]",
      "text/plain": [
       "<Figure size 432x288 with 1 Axes>"
      ]
     },
     "metadata": {
      "needs_background": "light"
     },
     "output_type": "display_data"
    }
   ],
   "source": [
    "# 변수 중요도\n",
    "feature_importance = DC.feature_importances_\n",
    "\n",
    "# 시각화\n",
    "n_feature = train_x.shape[1]\n",
    "idx = np.arange(n_feature)\n",
    "\n",
    "plt.barh(idx, feature_importance, height=-0.8, align='center')\n",
    "plt.yticks(idx, iris_dataset.feature_names)\n",
    "plt.show()"
   ]
  },
  {
   "cell_type": "markdown",
   "metadata": {},
   "source": [
    "# Random forest"
   ]
  },
  {
   "cell_type": "code",
   "execution_count": 32,
   "metadata": {},
   "outputs": [],
   "source": [
    "from sklearn.ensemble import RandomForestClassifier\n",
    "# AdaBoost\n",
    "# Bagging\n",
    "# ExtraTrees\n",
    "# GradientBoosting\n",
    "# Voting\n",
    "# ... Ensemble"
   ]
  },
  {
   "cell_type": "code",
   "execution_count": 39,
   "metadata": {},
   "outputs": [
    {
     "name": "stdout",
     "output_type": "stream",
     "text": [
      "0.8666666666666667\n"
     ]
    }
   ],
   "source": [
    "# 모델 설정\n",
    "RF = RandomForestClassifier(criterion='entropy', max_depth = 5)\n",
    "\n",
    "# 모델 훈련\n",
    "RF.fit(train_x, train_y)\n",
    "\n",
    "# 모델 예측\n",
    "pred_y = RF.predict(test_x)\n",
    "\n",
    "# 모델 평가\n",
    "print(accuracy_score(test_y, pred_y))"
   ]
  },
  {
   "cell_type": "code",
   "execution_count": 40,
   "metadata": {},
   "outputs": [
    {
     "data": {
      "image/png": "[encoded data removed]",
      "text/plain": [
       "<Figure size 432x288 with 1 Axes>"
      ]
     },
     "metadata": {
      "needs_background": "light"
     },
     "output_type": "display_data"
    }
   ],
   "source": [
    "# 변수 중요도\n",
    "RF_importance = RF.feature_importances_\n",
    "\n",
    "# 시각화\n",
    "n_feature = train_x.shape[1]\n",
    "idx = np.arange(n_feature)\n",
    "\n",
    "plt.barh(idx, RF_importance, height=-0.8, align='center')\n",
    "plt.yticks(idx, iris_dataset.feature_names)\n",
    "plt.show()"
   ]
  },
  {
   "cell_type": "markdown",
   "metadata": {},
   "source": [
    "# Support vector machine"
   ]
  },
  {
   "cell_type": "code",
   "execution_count": 41,
   "metadata": {},
   "outputs": [],
   "source": [
    "from sklearn.svm import SVC"
   ]
  },
  {
   "cell_type": "code",
   "execution_count": 48,
   "metadata": {},
   "outputs": [
    {
     "name": "stdout",
     "output_type": "stream",
     "text": [
      "0.8666666666666667\n",
      "0.9\n",
      "0.9\n",
      "0.26666666666666666\n"
     ]
    }
   ],
   "source": [
    "# 모델 설정\n",
    "# kernel:  default=’rbf’\n",
    "# linear’, ‘poly’, ‘rbf’, ‘sigmoid’\n",
    "SC_linear = SVC(kernel = 'linear')\n",
    "SC_poly = SVC(kernel = 'poly')\n",
    "SC_rbf = SVC(kernel = 'rbf')\n",
    "SC_sigmoid = SVC(kernel = 'sigmoid')\n",
    "\n",
    "# 모델 훈련\n",
    "SC_linear.fit(train_x, train_y)\n",
    "SC_poly.fit(train_x, train_y)\n",
    "SC_rbf.fit(train_x, train_y)\n",
    "SC_sigmoid.fit(train_x, train_y)\n",
    "\n",
    "# 모델 예측\n",
    "pred_linear = SC_linear.predict(test_x)\n",
    "pred_poly = SC_poly.predict(test_x)\n",
    "pred_rbf = SC_rbf.predict(test_x)\n",
    "pred_sigmoid = SC_sigmoid.predict(test_x)\n",
    "\n",
    "# 모델 평가\n",
    "print(accuracy_score(test_y, pred_linear))\n",
    "print(accuracy_score(test_y, pred_poly))\n",
    "print(accuracy_score(test_y, pred_rbf))\n",
    "print(accuracy_score(test_y, pred_sigmoid))"
   ]
  },
  {
   "cell_type": "code",
   "execution_count": 50,
   "metadata": {},
   "outputs": [
    {
     "data": {
      "image/png": "[encoded data removed]",
      "text/plain": [
       "<Figure size 432x288 with 1 Axes>"
      ]
     },
     "metadata": {
      "needs_background": "light"
     },
     "output_type": "display_data"
    }
   ],
   "source": [
    "# 커널 별 비교\n",
    "idx = np.arange(4)\n",
    "l = [accuracy_score(test_y, pred_linear),\n",
    "    accuracy_score(test_y, pred_poly),\n",
    "    accuracy_score(test_y, pred_rbf),\n",
    "    accuracy_score(test_y, pred_sigmoid)]\n",
    "\n",
    "plt.plot(idx, l ,'bo')\n",
    "plt.xticks(idx, ['linear', 'poly', 'rbf', 'sigmoid'])\n",
    "plt.show()"
   ]
  },
  {
   "cell_type": "markdown",
   "metadata": {},
   "source": [
    "# Gaussian Mixture"
   ]
  },
  {
   "cell_type": "code",
   "execution_count": 55,
   "metadata": {},
   "outputs": [],
   "source": [
    "from sklearn.mixture import GaussianMixture, BayesianGaussianMixture\n",
    "# GMM은 Parametric 모델로서 EM(Expectation Maximization) 알고리즘을 이용한 대표적인 군집화 모델"
   ]
  },
  {
   "cell_type": "code",
   "execution_count": 61,
   "metadata": {},
   "outputs": [
    {
     "name": "stdout",
     "output_type": "stream",
     "text": [
      "0.4\n",
      "0.1\n"
     ]
    }
   ],
   "source": [
    "# 모델 설정\n",
    "BM = BayesianGaussianMixture(n_components=3, random_state=77)\n",
    "GM = GaussianMixture(n_components=3, random_state=77)\n",
    "\n",
    "# 모델 훈련\n",
    "BM.fit(train_x, train_y)\n",
    "GM.fit(train_x, train_y)\n",
    "\n",
    "# 모델 예측\n",
    "pred_bm = BM.predict(test_x)\n",
    "pred_gm = GM.predict(test_x)\n",
    "\n",
    "# 모델 평가\n",
    "print(accuracy_score(test_y, pred_bm))\n",
    "print(accuracy_score(test_y, pred_gm))"
   ]
  },
  {
   "cell_type": "markdown",
   "metadata": {},
   "source": [
    "# K-means"
   ]
  },
  {
   "cell_type": "code",
   "execution_count": 62,
   "metadata": {},
   "outputs": [],
   "source": [
    "from sklearn.cluster import KMeans"
   ]
  },
  {
   "cell_type": "code",
   "execution_count": 63,
   "metadata": {},
   "outputs": [
    {
     "name": "stdout",
     "output_type": "stream",
     "text": [
      "0.4666666666666667\n"
     ]
    }
   ],
   "source": [
    "# 모델 설정\n",
    "KM = KMeans(n_clusters = 3)\n",
    "\n",
    "# 모델 학습\n",
    "KM.fit(train_x, train_y)\n",
    "\n",
    "# 모델 예측\n",
    "pred = KM.predict(test_x)\n",
    "\n",
    "# 모델 평가\n",
    "print(accuracy_score(test_y, pred))"
   ]
  },
  {
   "cell_type": "code",
   "execution_count": null,
   "metadata": {},
   "outputs": [],
   "source": []
  }
 ],
 "metadata": {
  "kernelspec": {
   "display_name": "Python 3",
   "language": "python",
   "name": "python3"
  },
  "language_info": {
   "codemirror_mode": {
    "name": "ipython",
    "version": 3
   },
   "file_extension": ".py",
   "mimetype": "text/x-python",
   "name": "python",
   "nbconvert_exporter": "python",
   "pygments_lexer": "ipython3",
   "version": "3.8.5"
  }
 },
 "nbformat": 4,
 "nbformat_minor": 4
}
