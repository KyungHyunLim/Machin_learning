{
 "cells": [
  {
   "cell_type": "code",
   "execution_count": 12,
   "metadata": {},
   "outputs": [],
   "source": [
    "import librosa\n",
    "from scipy.io import wavfile\n",
    "import scipy.signal as ss\n",
    "import numpy as np\n",
    "import soundfile as sf\n",
    "import matplotlib.pyplot as plt\n",
    "import os\n",
    "import tqdm"
   ]
  },
  {
   "cell_type": "code",
   "execution_count": 13,
   "metadata": {},
   "outputs": [],
   "source": [
    "def Down_sampling(in_wav_path, target_rate, save_path):\n",
    "    sr, wav = wavfile.read(in_wav_path)\n",
    "    #print(\"Current Rate: {}, Length: {}\".format(sr,len(wav)))\n",
    "    \n",
    "    # 새롭게 샘플링\n",
    "    num_of_samples = round(len(wav)*float(target_rate) / sr)\n",
    "    new_wav = ss.resample(wav, num_of_samples)\n",
    "    #print(np.max(new_wav), np.min(new_wav))\n",
    "    new_wav = new_wav/np.max(new_wav)\n",
    "    new_wav = np.array(new_wav, dtype=np.float32)\n",
    "    \n",
    "    # 원본 비율 구하기\n",
    "    # 원본 데이터가 int형임으로 -2147483647 ~ 2147483647 범위\n",
    "    loud_rate = max(abs(np.max(wav)), (np.min(wav))) / 2147483647\n",
    " \n",
    "    # 샘플링 크기 비율 맞추기\n",
    "    # Sampling시 float32로 변환 하는데 -1 ~ 1 범위\n",
    "    #new_wav = new_wav * (loud_rate / max(abs(np.max(new_wav)), (np.min(new_wav))))\n",
    "    \n",
    "    # Wav 파일 형식을 맞추기 위해 차원 증가\n",
    "    new_wav = np.expand_dims(new_wav, axis=1)\n",
    "    #print(\"Down samped wav shape: \",new_wav.shape)\n",
    "    wavfile.write(save_path, target_rate, new_wav)"
   ]
  },
  {
   "cell_type": "markdown",
   "metadata": {},
   "source": [
    "# DATA 경로"
   ]
  },
  {
   "cell_type": "code",
   "execution_count": 14,
   "metadata": {},
   "outputs": [],
   "source": [
    "data_pathes = ['./data/clean_trainset_28spk_wav/',\n",
    "               './data/clean_testset_wav/',\n",
    "               './data/noisy_testset_wav/',\n",
    "               './data/noisy_trainset_28spk_wav/'\n",
    "            ]"
   ]
  },
  {
   "cell_type": "markdown",
   "metadata": {},
   "source": [
    "# DATA 모두 16kHz로 다운 샘플링"
   ]
  },
  {
   "cell_type": "code",
   "execution_count": 15,
   "metadata": {},
   "outputs": [
    {
     "name": "stderr",
     "output_type": "stream",
     "text": [
      "  0%|                                                                                | 5/11572 [00:00<06:40, 28.87it/s]"
     ]
    },
    {
     "name": "stdout",
     "output_type": "stream",
     "text": [
      "Start! ./data/clean_trainset_28spk_wav/\n"
     ]
    },
    {
     "name": "stderr",
     "output_type": "stream",
     "text": [
      "100%|████████████████████████████████████████████████████████████████████████████| 11572/11572 [09:36<00:00, 20.09it/s]\n",
      "  0%|                                                                                          | 0/824 [00:00<?, ?it/s]"
     ]
    },
    {
     "name": "stdout",
     "output_type": "stream",
     "text": [
      "Start! ./data/clean_testset_wav/\n"
     ]
    },
    {
     "name": "stderr",
     "output_type": "stream",
     "text": [
      "100%|████████████████████████████████████████████████████████████████████████████████| 824/824 [00:35<00:00, 23.01it/s]\n",
      "  0%|                                                                                          | 0/824 [00:00<?, ?it/s]"
     ]
    },
    {
     "name": "stdout",
     "output_type": "stream",
     "text": [
      "Start! ./data/noisy_testset_wav/\n"
     ]
    },
    {
     "name": "stderr",
     "output_type": "stream",
     "text": [
      "100%|████████████████████████████████████████████████████████████████████████████████| 824/824 [00:36<00:00, 22.69it/s]\n",
      "  0%|                                                                                | 4/11572 [00:00<05:43, 33.64it/s]"
     ]
    },
    {
     "name": "stdout",
     "output_type": "stream",
     "text": [
      "Start! ./data/noisy_trainset_28spk_wav/\n"
     ]
    },
    {
     "name": "stderr",
     "output_type": "stream",
     "text": [
      "100%|████████████████████████████████████████████████████████████████████████████| 11572/11572 [09:15<00:00, 20.82it/s]\n"
     ]
    }
   ],
   "source": [
    "for dp in data_pathes:\n",
    "    paths = []\n",
    "    for root, dirs, files in os.walk(dp):\n",
    "        for fname in files:\n",
    "            full_name = os.path.join(root,fname)\n",
    "            paths.append(full_name)\n",
    "    \n",
    "    print(\"Start! \" + dp)        \n",
    "    for p in tqdm.tqdm(paths):\n",
    "        save_path = p.replace(dp.split('/')[2], dp.split('/')[2] + \"_16kHz\")\n",
    "        Down_sampling(p, 16000, save_path)"
   ]
  },
  {
   "cell_type": "code",
   "execution_count": null,
   "metadata": {},
   "outputs": [],
   "source": []
  }
 ],
 "metadata": {
  "kernelspec": {
   "display_name": "Python 3",
   "language": "python",
   "name": "python3"
  },
  "language_info": {
   "codemirror_mode": {
    "name": "ipython",
    "version": 3
   },
   "file_extension": ".py",
   "mimetype": "text/x-python",
   "name": "python",
   "nbconvert_exporter": "python",
   "pygments_lexer": "ipython3",
   "version": "3.8.5"
  }
 },
 "nbformat": 4,
 "nbformat_minor": 4
}
