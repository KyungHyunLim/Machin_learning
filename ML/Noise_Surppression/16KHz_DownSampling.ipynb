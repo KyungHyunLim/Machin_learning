{
 "cells": [
  {
   "cell_type": "code",
   "execution_count": 6,
   "metadata": {},
   "outputs": [],
   "source": [
    "import librosa\n",
    "from scipy.io import wavfile\n",
    "import scipy.signal as ss\n",
    "import numpy as np\n",
    "import soundfile as sf\n",
    "import matplotlib.pyplot as plt"
   ]
  },
  {
   "cell_type": "code",
   "execution_count": 77,
   "metadata": {},
   "outputs": [],
   "source": [
    "def Down_sampling(in_wav_path, target_rate, save_path):\n",
    "    sr, wav = wavfile.read(in_wav_path)\n",
    "    print(\"Current Rate: {}, Length: {}\".format(sr,len(wav)))\n",
    "    \n",
    "    # 새롭게 샘플링\n",
    "    num_of_samples = round(len(wav)*float(target_rate) / sr)\n",
    "    new_wav = ss.resample(wav, num_of_samples)\n",
    "    print(np.max(new_wav), np.min(new_wav))\n",
    "    new_wav = new_wav/np.max(new_wav)\n",
    "    new_wav = np.array(new_wav, dtype=np.float32)\n",
    "    \n",
    "   \n",
    "    # Wav 파일 형식을 맞추기 위해 차원 증가\n",
    "    new_wav = np.expand_dims(new_wav, axis=1)\n",
    "    print(\"Down samped wav shape: \",new_wav.shape)\n",
    "    wavfile.write(save_path, target_rate, new_wav)"
   ]
  },
  {
   "cell_type": "code",
   "execution_count": 78,
   "metadata": {},
   "outputs": [],
   "source": [
    "data_path = \"./data/p234_012.wav\"\n",
    "save_path = \"./data/re_p234_012.wav\""
   ]
  },
  {
   "cell_type": "code",
   "execution_count": 79,
   "metadata": {},
   "outputs": [
    {
     "name": "stdout",
     "output_type": "stream",
     "text": [
      "Current Rate: 48000, Length: 193898\n",
      "16225.798280106366 -9955.230229271727\n",
      "Down samped wav shape:  (64633, 1)\n"
     ]
    }
   ],
   "source": [
    "Down_sampling(data_path, 16000, save_path)"
   ]
  },
  {
   "cell_type": "code",
   "execution_count": 76,
   "metadata": {},
   "outputs": [
    {
     "name": "stdout",
     "output_type": "stream",
     "text": [
      "16000\n"
     ]
    }
   ],
   "source": [
    "sr, wav = wavfile.read(save_path)\n",
    "print(sr)"
   ]
  },
  {
   "cell_type": "code",
   "execution_count": null,
   "metadata": {},
   "outputs": [],
   "source": []
  }
 ],
 "metadata": {
  "kernelspec": {
   "display_name": "Python 3",
   "language": "python",
   "name": "python3"
  },
  "language_info": {
   "codemirror_mode": {
    "name": "ipython",
    "version": 3
   },
   "file_extension": ".py",
   "mimetype": "text/x-python",
   "name": "python",
   "nbconvert_exporter": "python",
   "pygments_lexer": "ipython3",
   "version": "3.8.5"
  }
 },
 "nbformat": 4,
 "nbformat_minor": 4
}
