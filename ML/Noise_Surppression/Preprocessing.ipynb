{
 "cells": [
  {
   "cell_type": "code",
   "execution_count": 1,
   "metadata": {},
   "outputs": [],
   "source": [
    "import librosa\n",
    "from scipy.io import wavfile\n",
    "import scipy.signal as ss\n",
    "import numpy as np\n",
    "import soundfile as sf\n",
    "import matplotlib.pyplot as plt\n",
    "import os\n",
    "import tqdm\n",
    "import torch"
   ]
  },
  {
   "cell_type": "code",
   "execution_count": 2,
   "metadata": {},
   "outputs": [],
   "source": [
    "def Load_data(path):\n",
    "    paths = []\n",
    "    for root, dirs, files in os.walk(dp):\n",
    "        for fname in files:\n",
    "            full_name = os.path.join(root,fname)\n",
    "            paths.append(full_name)\n",
    "    \n",
    "    data = []\n",
    "    for p in paths:\n",
    "        sr, wav = wavfile.read(p)\n",
    "        data.append(wav)\n",
    "    \n",
    "    print(\"Data Length: \", len(data))\n",
    "    print(\"Loading Complete\")\n",
    "    return data"
   ]
  },
  {
   "cell_type": "code",
   "execution_count": 3,
   "metadata": {},
   "outputs": [],
   "source": [
    "def Windowing(data, size):\n",
    "    print(\"Windowing Start!\")\n",
    "    # 슬라이싱 된 데이터를 저장할 배열\n",
    "    sliced_data = []\n",
    "\n",
    "    for idx in range(len(data)):\n",
    "        # 현재 음성 파일의 길이\n",
    "        length = len(data[idx])\n",
    "        if length < size:\n",
    "            # 뒷부분 0으로 패딩\n",
    "            temp = np.pad(data[idx], (0,size))\n",
    "            sliced_data.append(temp)\n",
    "        else:\n",
    "            # 현재 음성 파일의 윈도윙 segment 개수\n",
    "            # 50 % 중첩\n",
    "            num_of_segments = int((length - size) / (size/2)) + 1\n",
    "            #print(num_of_segments)\n",
    "            # 나누어서 데이터 저장\n",
    "            for sg in range(num_of_segments):\n",
    "                temp = data[idx][sg * int((size/2)) : sg * int((size/2)) + size:]\n",
    "                sliced_data.append(temp)\n",
    "            # 남은 부분이 있으면 pad해서 데이터 추가\n",
    "            if length > sg * int((size/2)) + size:\n",
    "                temp = data[idx][(sg+2) * int((size/2)):]\n",
    "                temp = np.pad(temp, (0 , size - len(temp)))\n",
    "                sliced_data.append(list(temp))\n",
    "              \n",
    "    print(\"Data Length: \",len(sliced_data))            \n",
    "    print(\"end\")\n",
    "    return sliced_data"
   ]
  },
  {
   "cell_type": "code",
   "execution_count": 4,
   "metadata": {},
   "outputs": [],
   "source": [
    "# 데이터 경로\n",
    "data_pathes = ['./data/clean_trainset_28spk_wav_16kHz//',\n",
    "               './data/noisy_trainset_28spk_wav_16kHz//'\n",
    "            ]"
   ]
  },
  {
   "cell_type": "code",
   "execution_count": 6,
   "metadata": {},
   "outputs": [
    {
     "name": "stdout",
     "output_type": "stream",
     "text": [
      "data_path:  ./data/clean_trainset_28spk_wav_16kHz//\n",
      "Data Length:  11572\n",
      "Loading Complete\n",
      "Windowing Start!\n",
      "Data Length:  60211\n",
      "end\n",
      "./data/clean_trainset_28spk_wav_16kHz// END, data:  60211\n",
      "List to torch tensor\n",
      "Tesor:  torch.Size([60211, 16384])\n",
      "Complete\n",
      "\n",
      "\n",
      "data_path:  ./data/noisy_trainset_28spk_wav_16kHz//\n",
      "Data Length:  11572\n",
      "Loading Complete\n",
      "Windowing Start!\n",
      "Data Length:  60211\n",
      "end\n",
      "./data/noisy_trainset_28spk_wav_16kHz// END, data:  60211\n",
      "List to torch tensor\n",
      "Tesor:  torch.Size([60211, 16384])\n",
      "Complete\n",
      "\n",
      "\n"
     ]
    }
   ],
   "source": [
    "for dp in data_pathes:\n",
    "    print(\"data_path: \", dp)\n",
    "    data = Load_data(dp)\n",
    "    data = Windowing(data, 16384)\n",
    "    print(dp, \"END, data: \", len(data))\n",
    "    print(\"List to torch tensor\")\n",
    "    data = torch.Tensor(data)\n",
    "    print(\"Tesor: \", data.shape)\n",
    "    torch.save(data, './data/' + dp.split('/')[2].split('_')[0])\n",
    "    print(\"Complete\\n\\n\")"
   ]
  },
  {
   "cell_type": "code",
   "execution_count": null,
   "metadata": {},
   "outputs": [],
   "source": []
  }
 ],
 "metadata": {
  "kernelspec": {
   "display_name": "Python 3",
   "language": "python",
   "name": "python3"
  },
  "language_info": {
   "codemirror_mode": {
    "name": "ipython",
    "version": 3
   },
   "file_extension": ".py",
   "mimetype": "text/x-python",
   "name": "python",
   "nbconvert_exporter": "python",
   "pygments_lexer": "ipython3",
   "version": "3.8.5"
  }
 },
 "nbformat": 4,
 "nbformat_minor": 4
}
